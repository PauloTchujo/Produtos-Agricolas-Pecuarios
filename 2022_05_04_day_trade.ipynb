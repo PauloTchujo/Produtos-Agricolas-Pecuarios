{
 "cells": [
  {
   "cell_type": "markdown",
   "id": "501d91f6",
   "metadata": {},
   "source": [
    "# INTRODUÇÃO\n",
    "Uma questão ao procuramos dados do mercado financeiro é a fonte de dados, pois podem divergir.\n",
    "\n",
    "A B3 fornece dados públicos que podem ser acessado no site."
   ]
  },
  {
   "cell_type": "markdown",
   "id": "4874c2bd",
   "metadata": {},
   "source": [
    "# OBJETIVO\n",
    "Construir, a partir dos dados públicos fornecidos pela B3, um \"_Data Frame_\" com as colunas OHLCV (Open - Abertura, High - Máxima, Low - Mínima, Close - Fechamento e Volume) em uma frequência temporal.  \n",
    "Deixando pronto para construção de gráficos de Velas, candlesticks."
   ]
  },
  {
   "cell_type": "markdown",
   "id": "60a48b15",
   "metadata": {},
   "source": [
    "# Instalando e Importando Bibliotecas\n",
    "Utilizaremos a biblioteca [\"_Pendulum_\"](https://pendulum.eustace.io/) para tratamento de datas e horas e a [\"_Pandas_\"](https://pandas.pydata.org/) para a importação e tratamento dos dados."
   ]
  },
  {
   "cell_type": "code",
   "execution_count": 1,
   "id": "99a63972",
   "metadata": {},
   "outputs": [
    {
     "name": "stdout",
     "output_type": "stream",
     "text": [
      "Collecting pendulum\n",
      "  Downloading pendulum-2.1.2-cp38-cp38-win_amd64.whl (129 kB)\n",
      "Requirement already satisfied: python-dateutil<3.0,>=2.6 in c:\\users\\usuario\\anaconda3\\lib\\site-packages (from pendulum) (2.8.1)\n",
      "Collecting pytzdata>=2020.1\n",
      "  Downloading pytzdata-2020.1-py2.py3-none-any.whl (489 kB)\n",
      "Requirement already satisfied: six>=1.5 in c:\\users\\usuario\\anaconda3\\lib\\site-packages (from python-dateutil<3.0,>=2.6->pendulum) (1.15.0)\n",
      "Installing collected packages: pytzdata, pendulum\n",
      "Successfully installed pendulum-2.1.2 pytzdata-2020.1\n"
     ]
    }
   ],
   "source": [
    "!pip install pendulum"
   ]
  },
  {
   "cell_type": "code",
   "execution_count": 2,
   "id": "39b9e495",
   "metadata": {},
   "outputs": [],
   "source": [
    "import pandas as pd\n",
    "import pendulum as pl"
   ]
  },
  {
   "cell_type": "markdown",
   "id": "6b7dcd24",
   "metadata": {},
   "source": [
    "# Importando os Dados\n",
    "Este arquivo é disponibilizado no site da [B3, Dados Públicos, Negócio a Negócio - Listados](https://www.b3.com.br/pt_br/market-data-e-indices/servicos-de-dados/market-data/consultas/boletim-diario/dados-publicos-de-produtos-listados-e-de-balcao/). Por ser grande, recomendo importar os dados para o computador local, realizando o tratamento com mais eficiência."
   ]
  },
  {
   "cell_type": "code",
   "execution_count": 4,
   "id": "0406c8d7",
   "metadata": {},
   "outputs": [],
   "source": [
    "df = pd.read_csv('TradeIntraday_20220503_1.txt', sep=';', dtype=str)"
   ]
  },
  {
   "cell_type": "markdown",
   "id": "f5783d5e",
   "metadata": {},
   "source": [
    "# O Ativo Trabalhado\n",
    "Vamos trabalhar com o contrato do Mini Dólar Futuro."
   ]
  },
  {
   "cell_type": "code",
   "execution_count": 10,
   "id": "a948f9a5",
   "metadata": {},
   "outputs": [],
   "source": [
    "wdom22 = df[df['TckrSymb'] == 'WDOM22']\n",
    "wdom22.drop(wdom22.columns[[1, 2, 7, 8]], axis = 1, inplace = True)\n",
    "wdom22 = wdom22.reset_index(drop=True)"
   ]
  },
  {
   "cell_type": "markdown",
   "id": "fc1ecd0f",
   "metadata": {},
   "source": [
    "# Data e Horas\n",
    "Organizamos a data e o tempo."
   ]
  },
  {
   "cell_type": "code",
   "execution_count": 12,
   "id": "76e6cba6",
   "metadata": {},
   "outputs": [],
   "source": [
    "wdom22['H_M_S'] = wdom22['NtryTm'].str[0:2] + ':' + wdom22['NtryTm'].str[2:4] + ':' + wdom22['NtryTm'].str[4:6] + '.' + wdom22['NtryTm'].str[6:]\n",
    "wdom22['date_time'] = wdom22['RptDt'] + 'T' + wdom22['H_M_S']\n",
    "wdom22['date_time'] = [pl.parse(i) for i in wdom22['date_time']]"
   ]
  },
  {
   "cell_type": "markdown",
   "id": "b0652b33",
   "metadata": {},
   "source": [
    "# Organizando os Dados\n",
    "Transformamos a data e o tempo em indice.  \n",
    "Selecionamos as colunas de interesse e renomeamos."
   ]
  },
  {
   "cell_type": "code",
   "execution_count": 20,
   "id": "6c49dc4a",
   "metadata": {},
   "outputs": [],
   "source": [
    "wdom22_1 = wdom22.set_index('date_time')\n",
    "wdom22_1.drop(wdom22.columns[[0, 3, 5]], axis = 1, inplace = True)\n",
    "wdom22_1.rename(columns = {'GrssTradAmt': 'Preco', 'TradQty': 'Quantidade', 'TradId': 'Negocio'}, inplace = True)"
   ]
  },
  {
   "cell_type": "markdown",
   "id": "9fbdfa69",
   "metadata": {},
   "source": [
    "# Transformando os Dados\n",
    "Operações matemática serão necessárias, transformamos os dados para aceitar os calculos."
   ]
  },
  {
   "cell_type": "code",
   "execution_count": 31,
   "id": "6a2f1767",
   "metadata": {},
   "outputs": [],
   "source": [
    "wdom22_1['Preco'] = wdom22_1['Preco'].str.replace(',', '.').astype(float)\n",
    "wdom22_1['Quantidade'] = wdom22_1['Quantidade'].astype(int)\n",
    "wdom22_1['Negocio'] = wdom22_1['Negocio'].astype(int)\n",
    "wdom22_1['Negocio'] = (wdom22_1['Negocio'] / 10).astype(int)"
   ]
  },
  {
   "cell_type": "markdown",
   "id": "b02860c9",
   "metadata": {},
   "source": [
    "# Definindo o Tempo\n",
    "Difinimos o tempo gráfico que queremos a tabela OHLCV."
   ]
  },
  {
   "cell_type": "code",
   "execution_count": 36,
   "id": "4f8c3d1a",
   "metadata": {},
   "outputs": [],
   "source": [
    "t = '5T'"
   ]
  },
  {
   "cell_type": "markdown",
   "id": "bacb958f",
   "metadata": {},
   "source": [
    "# Construindo o Data Frame"
   ]
  },
  {
   "cell_type": "code",
   "execution_count": 38,
   "id": "d683cc81",
   "metadata": {},
   "outputs": [],
   "source": [
    "wdom22_2 = pd.DataFrame({'Open': wdom22_1['Preco'].resample(t).first(), \n",
    "             'High': wdom22_1['Preco'].resample(t).max(),\n",
    "             'Low': wdom22_1['Preco'].resample(t).min(),\n",
    "             'Close': wdom22_1['Preco'].resample(t).last(),\n",
    "             'Volume': wdom22_1['Quantidade'].resample(t).sum()})"
   ]
  },
  {
   "cell_type": "markdown",
   "id": "ded94720",
   "metadata": {},
   "source": [
    "# Visualizando a Tabela dos Dados"
   ]
  },
  {
   "cell_type": "code",
   "execution_count": 40,
   "id": "a81bb3a6",
   "metadata": {},
   "outputs": [
    {
     "data": {
      "text/html": [
       "<div>\n",
       "<style scoped>\n",
       "    .dataframe tbody tr th:only-of-type {\n",
       "        vertical-align: middle;\n",
       "    }\n",
       "\n",
       "    .dataframe tbody tr th {\n",
       "        vertical-align: top;\n",
       "    }\n",
       "\n",
       "    .dataframe thead th {\n",
       "        text-align: right;\n",
       "    }\n",
       "</style>\n",
       "<table border=\"1\" class=\"dataframe\">\n",
       "  <thead>\n",
       "    <tr style=\"text-align: right;\">\n",
       "      <th></th>\n",
       "      <th>Open</th>\n",
       "      <th>High</th>\n",
       "      <th>Low</th>\n",
       "      <th>Close</th>\n",
       "      <th>Volume</th>\n",
       "    </tr>\n",
       "    <tr>\n",
       "      <th>date_time</th>\n",
       "      <th></th>\n",
       "      <th></th>\n",
       "      <th></th>\n",
       "      <th></th>\n",
       "      <th></th>\n",
       "    </tr>\n",
       "  </thead>\n",
       "  <tbody>\n",
       "    <tr>\n",
       "      <th>2022-05-03 09:00:00+00:00</th>\n",
       "      <td>5085.0</td>\n",
       "      <td>5096.0</td>\n",
       "      <td>5078.5</td>\n",
       "      <td>5092.5</td>\n",
       "      <td>98155</td>\n",
       "    </tr>\n",
       "    <tr>\n",
       "      <th>2022-05-03 09:05:00+00:00</th>\n",
       "      <td>5093.0</td>\n",
       "      <td>5095.5</td>\n",
       "      <td>5075.5</td>\n",
       "      <td>5083.5</td>\n",
       "      <td>74906</td>\n",
       "    </tr>\n",
       "    <tr>\n",
       "      <th>2022-05-03 09:10:00+00:00</th>\n",
       "      <td>5083.0</td>\n",
       "      <td>5087.0</td>\n",
       "      <td>5075.5</td>\n",
       "      <td>5078.0</td>\n",
       "      <td>65573</td>\n",
       "    </tr>\n",
       "    <tr>\n",
       "      <th>2022-05-03 09:15:00+00:00</th>\n",
       "      <td>5078.0</td>\n",
       "      <td>5084.5</td>\n",
       "      <td>5073.0</td>\n",
       "      <td>5082.0</td>\n",
       "      <td>63925</td>\n",
       "    </tr>\n",
       "    <tr>\n",
       "      <th>2022-05-03 09:20:00+00:00</th>\n",
       "      <td>5082.0</td>\n",
       "      <td>5092.0</td>\n",
       "      <td>5080.0</td>\n",
       "      <td>5087.0</td>\n",
       "      <td>55502</td>\n",
       "    </tr>\n",
       "    <tr>\n",
       "      <th>...</th>\n",
       "      <td>...</td>\n",
       "      <td>...</td>\n",
       "      <td>...</td>\n",
       "      <td>...</td>\n",
       "      <td>...</td>\n",
       "    </tr>\n",
       "    <tr>\n",
       "      <th>2022-05-03 17:35:00+00:00</th>\n",
       "      <td>5011.5</td>\n",
       "      <td>5012.0</td>\n",
       "      <td>5008.5</td>\n",
       "      <td>5009.5</td>\n",
       "      <td>7169</td>\n",
       "    </tr>\n",
       "    <tr>\n",
       "      <th>2022-05-03 17:40:00+00:00</th>\n",
       "      <td>5009.5</td>\n",
       "      <td>5013.0</td>\n",
       "      <td>5008.5</td>\n",
       "      <td>5011.5</td>\n",
       "      <td>10098</td>\n",
       "    </tr>\n",
       "    <tr>\n",
       "      <th>2022-05-03 17:45:00+00:00</th>\n",
       "      <td>5011.5</td>\n",
       "      <td>5012.5</td>\n",
       "      <td>5008.0</td>\n",
       "      <td>5008.5</td>\n",
       "      <td>14046</td>\n",
       "    </tr>\n",
       "    <tr>\n",
       "      <th>2022-05-03 17:50:00+00:00</th>\n",
       "      <td>5008.5</td>\n",
       "      <td>5010.5</td>\n",
       "      <td>5008.0</td>\n",
       "      <td>5010.5</td>\n",
       "      <td>4558</td>\n",
       "    </tr>\n",
       "    <tr>\n",
       "      <th>2022-05-03 17:55:00+00:00</th>\n",
       "      <td>5010.5</td>\n",
       "      <td>5012.0</td>\n",
       "      <td>5002.5</td>\n",
       "      <td>5002.5</td>\n",
       "      <td>11989</td>\n",
       "    </tr>\n",
       "  </tbody>\n",
       "</table>\n",
       "<p>108 rows × 5 columns</p>\n",
       "</div>"
      ],
      "text/plain": [
       "                             Open    High     Low   Close  Volume\n",
       "date_time                                                        \n",
       "2022-05-03 09:00:00+00:00  5085.0  5096.0  5078.5  5092.5   98155\n",
       "2022-05-03 09:05:00+00:00  5093.0  5095.5  5075.5  5083.5   74906\n",
       "2022-05-03 09:10:00+00:00  5083.0  5087.0  5075.5  5078.0   65573\n",
       "2022-05-03 09:15:00+00:00  5078.0  5084.5  5073.0  5082.0   63925\n",
       "2022-05-03 09:20:00+00:00  5082.0  5092.0  5080.0  5087.0   55502\n",
       "...                           ...     ...     ...     ...     ...\n",
       "2022-05-03 17:35:00+00:00  5011.5  5012.0  5008.5  5009.5    7169\n",
       "2022-05-03 17:40:00+00:00  5009.5  5013.0  5008.5  5011.5   10098\n",
       "2022-05-03 17:45:00+00:00  5011.5  5012.5  5008.0  5008.5   14046\n",
       "2022-05-03 17:50:00+00:00  5008.5  5010.5  5008.0  5010.5    4558\n",
       "2022-05-03 17:55:00+00:00  5010.5  5012.0  5002.5  5002.5   11989\n",
       "\n",
       "[108 rows x 5 columns]"
      ]
     },
     "execution_count": 40,
     "metadata": {},
     "output_type": "execute_result"
    }
   ],
   "source": [
    "wdom22_2"
   ]
  },
  {
   "cell_type": "markdown",
   "id": "b8834614",
   "metadata": {},
   "source": [
    "# Salvando\n",
    "Salvamos a nova tabela como um arquivo \"_.csv_\"."
   ]
  },
  {
   "cell_type": "code",
   "execution_count": 42,
   "id": "496933a9",
   "metadata": {},
   "outputs": [],
   "source": [
    "#wdom22_2.to_csv('2022_05_03_wdom22.csv', index = True, encoding = 'UTF-8')"
   ]
  }
 ],
 "metadata": {
  "kernelspec": {
   "display_name": "Python 3",
   "language": "python",
   "name": "python3"
  },
  "language_info": {
   "codemirror_mode": {
    "name": "ipython",
    "version": 3
   },
   "file_extension": ".py",
   "mimetype": "text/x-python",
   "name": "python",
   "nbconvert_exporter": "python",
   "pygments_lexer": "ipython3",
   "version": "3.8.8"
  }
 },
 "nbformat": 4,
 "nbformat_minor": 5
}
